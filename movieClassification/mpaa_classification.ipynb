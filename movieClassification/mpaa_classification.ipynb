{
 "cells": [
  {
   "cell_type": "code",
   "execution_count": 3,
   "metadata": {
    "collapsed": false
   },
   "outputs": [],
   "source": [
    "import data_prep\n",
    "from mpaa_analysis import *\n",
    "from sklearn.metrics import confusion_matrix\n",
    "\n",
    "import pandas as pd\n",
    "import numpy as np\n",
    "#import matplotlib.pyplot as plt"
   ]
  },
  {
   "cell_type": "markdown",
   "metadata": {},
   "source": [
    "## Data Parsing"
   ]
  },
  {
   "cell_type": "code",
   "execution_count": 4,
   "metadata": {
    "collapsed": false
   },
   "outputs": [
    {
     "name": "stdout",
     "output_type": "stream",
     "text": [
      "Parsing genre list documentation block\n",
      "Reading genre list into memory\n",
      "Parsing ratings documentation block\n",
      "Parse ratings lines and convert to DataFrame\n",
      "Filter set to true, ignoring entries with <1000 entries\n",
      "31783 movies returned\n",
      "Opening mpaa files\n",
      "Cleaning mpaa data\n",
      "Performing initial merge\n",
      "Cleaning title\n",
      "CPU times: user 19.4 s, sys: 1.01 s, total: 20.4 s\n",
      "Wall time: 21.2 s\n"
     ]
    }
   ],
   "source": [
    "%%time\n",
    "\n",
    "genre_listing = data_prep.read_genres('imdb/genres.list')\n",
    "rating_listing = data_prep.read_ratings('imdb/ratings.list')\n",
    "mpaa = data_prep.read_mpaa('imdb/mpaa-ratings-reasons.list')\n",
    "\n",
    "movies = data_prep.merge_all(rating_listing, genre_listing, mpaa)\n",
    "\n",
    "train, test = split_data(movies)\n",
    "\n",
    "vectorizer, train_data_features = create_train_features(train)\n",
    "test_data_features = create_test_features(test, vectorizer)"
   ]
  },
  {
   "cell_type": "markdown",
   "metadata": {},
   "source": [
    "## Classifier Training and Prediction"
   ]
  },
  {
   "cell_type": "code",
   "execution_count": 5,
   "metadata": {
    "collapsed": true
   },
   "outputs": [],
   "source": [
    "forest = fit_random_forest(train, train_data_features, 'label')\n",
    "xforest = fit_xrandom_forest(train, train_data_features, 'label')\n",
    "trees = fit_dectree(train, train_data_features, 'label')"
   ]
  },
  {
   "cell_type": "code",
   "execution_count": 6,
   "metadata": {
    "collapsed": false
   },
   "outputs": [],
   "source": [
    "test_forest = pred_random_forest(test, test_data_features, forest)\n",
    "test_xforest = pred_xrandom_forest(test, test_data_features, xforest)\n",
    "test_trees = pred_dectree(test, test_data_features, trees)"
   ]
  },
  {
   "cell_type": "code",
   "execution_count": 17,
   "metadata": {
    "collapsed": false
   },
   "outputs": [],
   "source": [
    "def show_conf_mat(test):\n",
    "    conf = confusion_matrix(test.label.astype('str').values,\n",
    "                                 test.predictions.astype('str').values)\n",
    "    conf_norm = conf.astype('float') / conf.sum(axis=1)\n",
    "    plt.imshow(conf_norm, interpolation='nearest', cmap=plt.cm.Blues)"
   ]
  },
  {
   "cell_type": "code",
   "execution_count": 18,
   "metadata": {
    "collapsed": false
   },
   "outputs": [
    {
     "data": {
      "image/png": "[encoded data removed]",
      "text/plain": [
       "<matplotlib.figure.Figure at 0x10a746cd0>"
      ]
     },
     "metadata": {},
     "output_type": "display_data"
    },
    {
     "data": {
      "image/png": "[encoded data removed]",
      "text/plain": [
       "<matplotlib.figure.Figure at 0x10a76c610>"
      ]
     },
     "metadata": {},
     "output_type": "display_data"
    },
    {
     "data": {
      "image/png": "[encoded data removed]",
      "text/plain": [
       "<matplotlib.figure.Figure at 0x10a7dd9d0>"
      ]
     },
     "metadata": {},
     "output_type": "display_data"
    }
   ],
   "source": [
    "plt.figure()\n",
    "show_conf_mat(test_forest)\n",
    "\n",
    "plt.figure()\n",
    "show_conf_mat(test_trees)\n",
    "\n",
    "plt.figure()\n",
    "show_conf_mat(test_xforest)"
   ]
  },
  {
   "cell_type": "code",
   "execution_count": 7,
   "metadata": {
    "collapsed": false
   },
   "outputs": [
    {
     "name": "stdout",
     "output_type": "stream",
     "text": [
      "[[   0    0    0    6]\n",
      " [   0  150   41   20]\n",
      " [   0   44  318  152]\n",
      " [   2    9   86 1096]]\n",
      "[[   0    0    0    6]\n",
      " [   0  150   41   20]\n",
      " [   0   44  318  152]\n",
      " [   2    9   86 1096]]\n",
      "[[   0    0    0    6]\n",
      " [   0  150   41   20]\n",
      " [   0   44  318  152]\n",
      " [   2    9   86 1096]]\n"
     ]
    }
   ],
   "source": [
    "print confusion_matrix(test_forest.label.astype('str').values,\n",
    "                       test_forest.predictions.astype('str').values)\n",
    "\n",
    "print confusion_matrix(test_xforest.label.astype('str').values,\n",
    "                       test_xforest.predictions.astype('str').values)\n",
    "\n",
    "print confusion_matrix(test_trees.label.astype('str').values,\n",
    "                       test_trees.predictions.astype('str').values)"
   ]
  },
  {
   "cell_type": "code",
   "execution_count": 8,
   "metadata": {
    "collapsed": false
   },
   "outputs": [
    {
     "data": {
      "text/plain": [
       "R        1193\n",
       "PG-13     514\n",
       "PG        211\n",
       "NC-17       6\n",
       "Name: label, dtype: int64"
      ]
     },
     "execution_count": 8,
     "metadata": {},
     "output_type": "execute_result"
    }
   ],
   "source": [
    "test_trees.label.value_counts()"
   ]
  },
  {
   "cell_type": "code",
   "execution_count": null,
   "metadata": {
    "collapsed": true
   },
   "outputs": [],
   "source": []
  }
 ],
 "metadata": {
  "kernelspec": {
   "display_name": "Python 2",
   "language": "python",
   "name": "python2"
  },
  "language_info": {
   "codemirror_mode": {
    "name": "ipython",
    "version": 2
   },
   "file_extension": ".py",
   "mimetype": "text/x-python",
   "name": "python",
   "nbconvert_exporter": "python",
   "pygments_lexer": "ipython2",
   "version": "2.7.6"
  }
 },
 "nbformat": 4,
 "nbformat_minor": 0
}
