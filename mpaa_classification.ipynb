{
 "cells": [
  {
   "cell_type": "code",
   "execution_count": 23,
   "metadata": {
    "collapsed": true
   },
   "outputs": [],
   "source": [
    "import data_prep\n",
    "from mpaa_analysis import *\n",
    "from sklearn.metrics import confusion_matrix\n",
    "\n",
    "import pandas as pd\n",
    "import numpy as np\n",
    "import matplotlib.pyplot as plt\n",
    "%matplotlib inline"
   ]
  },
  {
   "cell_type": "markdown",
   "metadata": {},
   "source": [
    "##Data Parsing"
   ]
  },
  {
   "cell_type": "code",
   "execution_count": 2,
   "metadata": {
    "collapsed": false
   },
   "outputs": [
    {
     "name": "stdout",
     "output_type": "stream",
     "text": [
      "Parsing genre list documentation block\n",
      "Reading genre list into memory\n",
      "Parsing ratings documentation block\n",
      "Parse ratings lines and convert to DataFrame\n",
      "Filter set to true, ignoring entries with <1000 entries\n",
      "31783 movies returned\n",
      "Opening mpaa files\n",
      "Cleaning mpaa data\n",
      "Performing initial merge\n",
      "Cleaning title\n",
      "CPU times: user 19.4 s, sys: 1.15 s, total: 20.6 s\n",
      "Wall time: 23.2 s\n"
     ]
    }
   ],
   "source": [
    "%%time\n",
    "\n",
    "genre_listing = data_prep.read_genres('imdb/genres.list')\n",
    "rating_listing = data_prep.read_ratings('imdb/ratings.list')\n",
    "mpaa = data_prep.read_mpaa('imdb/mpaa-ratings-reasons.list')\n",
    "\n",
    "movies = data_prep.merge_all(rating_listing, genre_listing, mpaa)\n",
    "\n",
    "train, test = split_data(movies)\n",
    "\n",
    "vectorizer, train_data_features = create_train_features(train)\n",
    "test_data_features = create_test_features(test, vectorizer)"
   ]
  },
  {
   "cell_type": "markdown",
   "metadata": {},
   "source": [
    "##Classifier Training and Prediction"
   ]
  },
  {
   "cell_type": "code",
   "execution_count": 3,
   "metadata": {
    "collapsed": true
   },
   "outputs": [],
   "source": [
    "forest = fit_random_forest(train, train_data_features, 'label')\n",
    "xforest = fit_xrandom_forest(train, train_data_features, 'label')\n",
    "trees = fit_dectree(train, train_data_features, 'label')"
   ]
  },
  {
   "cell_type": "code",
   "execution_count": 5,
   "metadata": {
    "collapsed": false
   },
   "outputs": [],
   "source": [
    "test_forest = pred_random_forest(test, test_data_features, forest)\n",
    "test_xforest = pred_xrandom_forest(test, test_data_features, forest)\n",
    "test_trees = pred_dectree(test, test_data_features, forest)"
   ]
  },
  {
   "cell_type": "code",
   "execution_count": 21,
   "metadata": {
    "collapsed": false
   },
   "outputs": [],
   "source": [
    "tree_conf = confusion_matrix(test_trees.label.astype('str').values,\n",
    "                             test_trees.predictions.astype('str').values)"
   ]
  },
  {
   "cell_type": "code",
   "execution_count": 28,
   "metadata": {
    "collapsed": false
   },
   "outputs": [
    {
     "data": {
      "text/plain": [
       "<matplotlib.image.AxesImage at 0x10a16cc50>"
      ]
     },
     "execution_count": 28,
     "metadata": {},
     "output_type": "execute_result"
    },
    {
     "data": {
      "image/png": "[encoded data removed]",
      "text/plain": [
       "<matplotlib.figure.Figure at 0x109f37690>"
      ]
     },
     "metadata": {},
     "output_type": "display_data"
    }
   ],
   "source": [
    "tree_conf_norm = tree_conf.astype('float') / tree_conf.sum(axis=1)\n",
    "plt.imshow(tree_conf_norm, interpolation='nearest', cmap=plt.cm.Blues)"
   ]
  },
  {
   "cell_type": "code",
   "execution_count": null,
   "metadata": {
    "collapsed": true
   },
   "outputs": [],
   "source": []
  }
 ],
 "metadata": {
  "kernelspec": {
   "display_name": "Python 2",
   "language": "python",
   "name": "python2"
  },
  "language_info": {
   "codemirror_mode": {
    "name": "ipython",
    "version": 2
   },
   "file_extension": ".py",
   "mimetype": "text/x-python",
   "name": "python",
   "nbconvert_exporter": "python",
   "pygments_lexer": "ipython2",
   "version": "2.7.10"
  }
 },
 "nbformat": 4,
 "nbformat_minor": 0
}
